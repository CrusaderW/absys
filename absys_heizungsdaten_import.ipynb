{
 "cells": [
  {
   "cell_type": "code",
   "execution_count": 5,
   "metadata": {
    "collapsed": true
   },
   "outputs": [],
   "source": [
    "#xml auslesen\n",
    "\n",
    "import glob\n",
    "import pandas as pd\n",
    "import xmltodict\n",
    "import xml.etree.ElementTree as ET\n",
    "tree = ET.parse('test1.XML')\n",
    "root = tree.getroot()\n",
    "\n",
    "for nfaktor1 in root.findall('nfaktor1'):\n",
    "    print('nfaktor1')"
   ]
  },
  {
   "cell_type": "code",
   "execution_count": 29,
   "metadata": {},
   "outputs": [
    {
     "data": {
      "text/plain": [
       "['667 X 390 X 15 P  TGA.XML',\n",
       " 'test1.XML',\n",
       " '667 X 590 X 15 P  TGA.XML',\n",
       " '533 X 390 X 15 P  TGA.XML']"
      ]
     },
     "execution_count": 29,
     "metadata": {},
     "output_type": "execute_result"
    }
   ],
   "source": [
    "#gibt alle *.XML (uppercase) Dateien aus\n",
    "glob.glob('*.XML')"
   ]
  },
  {
   "cell_type": "code",
   "execution_count": 18,
   "metadata": {},
   "outputs": [
    {
     "data": {
      "text/plain": [
       "'0.235'"
      ]
     },
     "execution_count": 18,
     "metadata": {},
     "output_type": "execute_result"
    }
   ],
   "source": [
    "# Auslese Test aus hardcoded Datei\n",
    "with open('test1.XML') as fd:\n",
    "    doc = xmltodict.parse(fd.read())\n",
    "    \n",
    "    \n",
    "doc['VFPData']['bewertung']['nfaktor1']"
   ]
  },
  {
   "cell_type": "code",
   "execution_count": 23,
   "metadata": {},
   "outputs": [
    {
     "name": "stdout",
     "output_type": "stream",
     "text": [
      "cmid nlaenge nhoehe ntiefe nfaktor1 cnormtemp1\n",
      "('100000147', '667', '390', '15', '0.284', 'EN 75/65')\n",
      "('100000147', '533', '390', '15', '0.235', 'EN 75/65')\n",
      "('100000147', '667', '590', '15', '0.383', 'EN 75/65')\n",
      "('100000147', '533', '390', '15', '0.235', 'EN 75/65')\n"
     ]
    }
   ],
   "source": [
    "print('cmid','nlaenge', 'nhoehe', 'ntiefe','nfaktor1','cnormtemp1' )\n",
    "\n",
    "for xmlDokument in glob.glob('*.XML'):\n",
    "    #print(xmlDokument)\n",
    "    with open(xmlDokument) as fd:\n",
    "        doc = xmltodict.parse(fd.read())\n",
    "       \n",
    "        # print (doc['VFPData']['bewertung']['nfaktor1'],doc['VFPData']['bewertung']['cnormtemp1'])\n",
    "        \n",
    "        # XML Bereiche zuordnen\n",
    "        cmid = doc['VFPData']['bewertung']['cmid']\n",
    "        nlaenge = doc['VFPData']['bewertung']['nlaenge']\n",
    "        nhoehe = doc['VFPData']['bewertung']['nhoehe']\n",
    "        ntiefe = doc['VFPData']['bewertung']['ntiefe']\n",
    "        nfaktor1 = doc['VFPData']['bewertung']['nfaktor1']\n",
    "        cnormtemp1 = doc['VFPData']['bewertung']['cnormtemp1']\n",
    "        \n",
    "        datenListe = (cmid,nlaenge,nhoehe, ntiefe, nfaktor1 , cnormtemp1)\n",
    "        \n",
    "        print(datenListe)          \n",
    "       # df = pd.DataFrame(datenListe, columns=('cmid','nlaenge', 'nhoehe', 'ntiefe','nfaktor1','cnormtemp1'))\n",
    "       # print(df)"
   ]
  },
  {
   "cell_type": "code",
   "execution_count": 27,
   "metadata": {},
   "outputs": [
    {
     "ename": "ValueError",
     "evalue": "DataFrame constructor not properly called!",
     "output_type": "error",
     "traceback": [
      "\u001b[0;31m---------------------------------------------------------------------------\u001b[0m",
      "\u001b[0;31mValueError\u001b[0m                                Traceback (most recent call last)",
      "\u001b[0;32m<ipython-input-27-2f12075a6892>\u001b[0m in \u001b[0;36m<module>\u001b[0;34m()\u001b[0m\n\u001b[1;32m     18\u001b[0m \u001b[0;34m\u001b[0m\u001b[0m\n\u001b[1;32m     19\u001b[0m        \u001b[0;31m# print(datenListe)\u001b[0m\u001b[0;34m\u001b[0m\u001b[0;34m\u001b[0m\u001b[0m\n\u001b[0;32m---> 20\u001b[0;31m         \u001b[0mdf\u001b[0m \u001b[0;34m=\u001b[0m \u001b[0mpd\u001b[0m\u001b[0;34m.\u001b[0m\u001b[0mDataFrame\u001b[0m\u001b[0;34m(\u001b[0m\u001b[0mdatenListe\u001b[0m\u001b[0;34m,\u001b[0m \u001b[0mcolumns\u001b[0m\u001b[0;34m=\u001b[0m\u001b[0;34m(\u001b[0m\u001b[0;34m'cmid'\u001b[0m\u001b[0;34m,\u001b[0m\u001b[0;34m'nlaenge'\u001b[0m\u001b[0;34m,\u001b[0m \u001b[0;34m'nhoehe'\u001b[0m\u001b[0;34m,\u001b[0m \u001b[0;34m'ntiefe'\u001b[0m\u001b[0;34m,\u001b[0m\u001b[0;34m'nfaktor1'\u001b[0m\u001b[0;34m,\u001b[0m\u001b[0;34m'cnormtemp1'\u001b[0m\u001b[0;34m)\u001b[0m\u001b[0;34m)\u001b[0m\u001b[0;34m\u001b[0m\u001b[0m\n\u001b[0m\u001b[1;32m     21\u001b[0m         \u001b[0mprint\u001b[0m\u001b[0;34m(\u001b[0m\u001b[0mdf\u001b[0m\u001b[0;34m)\u001b[0m\u001b[0;34m\u001b[0m\u001b[0m\n",
      "\u001b[0;32m~/anaconda3/lib/python3.6/site-packages/pandas/core/frame.py\u001b[0m in \u001b[0;36m__init__\u001b[0;34m(self, data, index, columns, dtype, copy)\u001b[0m\n\u001b[1;32m    352\u001b[0m                                          copy=False)\n\u001b[1;32m    353\u001b[0m             \u001b[0;32melse\u001b[0m\u001b[0;34m:\u001b[0m\u001b[0;34m\u001b[0m\u001b[0m\n\u001b[0;32m--> 354\u001b[0;31m                 \u001b[0;32mraise\u001b[0m \u001b[0mValueError\u001b[0m\u001b[0;34m(\u001b[0m\u001b[0;34m'DataFrame constructor not properly called!'\u001b[0m\u001b[0;34m)\u001b[0m\u001b[0;34m\u001b[0m\u001b[0m\n\u001b[0m\u001b[1;32m    355\u001b[0m \u001b[0;34m\u001b[0m\u001b[0m\n\u001b[1;32m    356\u001b[0m         \u001b[0mNDFrame\u001b[0m\u001b[0;34m.\u001b[0m\u001b[0m__init__\u001b[0m\u001b[0;34m(\u001b[0m\u001b[0mself\u001b[0m\u001b[0;34m,\u001b[0m \u001b[0mmgr\u001b[0m\u001b[0;34m,\u001b[0m \u001b[0mfastpath\u001b[0m\u001b[0;34m=\u001b[0m\u001b[0;32mTrue\u001b[0m\u001b[0;34m)\u001b[0m\u001b[0;34m\u001b[0m\u001b[0m\n",
      "\u001b[0;31mValueError\u001b[0m: DataFrame constructor not properly called!"
     ]
    }
   ],
   "source": [
    "# Versuch der Ausgabe per DataFrame\n",
    "for xmlDokument in glob.glob('*.XML'):\n",
    "    #print(xmlDokument)\n",
    "    with open(xmlDokument) as fd:\n",
    "        doc = xmltodict.parse(fd.read())\n",
    "       \n",
    "        # print (doc['VFPData']['bewertung']['nfaktor1'],doc['VFPData']['bewertung']['cnormtemp1'])\n",
    "        \n",
    "        # XML Bereiche zuordnen\n",
    "        cmid = doc['VFPData']['bewertung']['cmid']\n",
    "        nlaenge = doc['VFPData']['bewertung']['nlaenge']\n",
    "        nhoehe = doc['VFPData']['bewertung']['nhoehe']\n",
    "        ntiefe = doc['VFPData']['bewertung']['ntiefe']\n",
    "        nfaktor1 = doc['VFPData']['bewertung']['nfaktor1']\n",
    "        cnormtemp1 = doc['VFPData']['bewertung']['cnormtemp1']\n",
    "        \n",
    "        datenListe = (cmid,nlaenge,nhoehe, ntiefe, nfaktor1 , cnormtemp1)\n",
    "        \n",
    "       # print(datenListe)          \n",
    "        df = pd.DataFrame(datenListe, columns=('cmid','nlaenge', 'nhoehe', 'ntiefe','nfaktor1','cnormtemp1'))\n",
    "        print(df)"
   ]
  }
 ],
 "metadata": {
  "kernelspec": {
   "display_name": "Python 3",
   "language": "python",
   "name": "python3"
  },
  "language_info": {
   "codemirror_mode": {
    "name": "ipython",
    "version": 3
   },
   "file_extension": ".py",
   "mimetype": "text/x-python",
   "name": "python",
   "nbconvert_exporter": "python",
   "pygments_lexer": "ipython3",
   "version": "3.6.2"
  }
 },
 "nbformat": 4,
 "nbformat_minor": 2
}
