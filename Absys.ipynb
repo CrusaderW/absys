{
 "cells": [
  {
   "cell_type": "code",
   "execution_count": null,
   "metadata": {
    "collapsed": true
   },
   "outputs": [],
   "source": [
    "from IPython.core.debugger import set_trace\n",
    "import numpy as np\n",
    "import pandas as pd\n",
    "import itertools\n",
    "import glob\n",
    "from openpyxl import load_workbook\n",
    "Auftrag = './absys_files/A-2017-0059_919A.XLSX'"
   ]
  },
  {
   "cell_type": "code",
   "execution_count": null,
   "metadata": {
    "collapsed": true
   },
   "outputs": [],
   "source": [
    "def findZählernummer(ZNr, df):\n",
    "    if isinstance(int(ZNr), int):\n",
    "        assert len(str(ZNr)) == 8\n",
    "        return df[(df['ZählernummerAlt'] == ZNr)]"
   ]
  },
  {
   "cell_type": "code",
   "execution_count": null,
   "metadata": {},
   "outputs": [],
   "source": [
    "def protoCleanupHeizung(df):\n",
    "    df2append = df.dropna()\n",
    "    df2append = df2append[(df2append['Baulänge'] != 'Baulänge') &\n",
    "                          (df2append['Bauhöhe'] != 'Bauhöhe')&\n",
    "                          (df2append['Bautiefe'] != 'Bautiefe') &\n",
    "                          (df2append['ZählernummerAlt'] != 'Altgerät') &\n",
    "                          (df2append['ZählernummerNeu'] != 'Neugerät')]\n",
    "    df2append = df2append[(df2append['Baulänge'] != 'D') &\n",
    "                          (df2append['Bauhöhe'] != 'E') &\n",
    "                          (df2append['Bautiefe'] != 'F') &\n",
    "                          (df2append['ZählernummerAlt'] != 'Nr.') &\n",
    "                          (df2append['ZählernummerNeu'] != 'Nr.')]\n",
    "    return df2append\n",
    "\n",
    "def protoCleanupWasser(df):\n",
    "    df2append = df.dropna()\n",
    "    df2append = df2append[(df2append['ZählernummerAlt'] != 'Gerätenummer') &\n",
    "                          (df2append['ZählerStandAlt'] != 'Stand in m³')&\n",
    "                          (df2append['ZählernummerNeu'] != 'Gerätenummer') &\n",
    "                          (df2append['ZählerStandNeu'] != 'Stand in m³')]\n",
    "    df2append = df2append[(df2append['ZählernummerAlt'] != 'E') &\n",
    "                          (df2append['ZählerStandAlt'] != 'J') &\n",
    "                          (df2append['ZählernummerNeu'] != 'Nr.') &\n",
    "                          (df2append['ZählerStandNeu'] != 'Mont. Pkt.')]\n",
    "    df2append = df2append[(df2append['ZählerStandAlt'] != 'Bowa')]\n",
    "    df2append = df2append[(df2append['ZählerStandAlt'] != 'Veha')]\n",
    "    df2append = df2append[(df2append['ZählerStandAlt'] != 'Fix')]\n",
    "    df2append = df2append[(df2append['ZählerStandAlt'] != 'Kermi')]\n",
    "    return df2append"
   ]
  },
  {
   "cell_type": "code",
   "execution_count": null,
   "metadata": {
    "collapsed": true
   },
   "outputs": [],
   "source": [
    "def collectProtocols(pathPattern='./absys_files/SenftenbergerRing*'):\n",
    "    \n",
    "    #Hier werden die Heizkostenverteilerdaten eingelesen\n",
    "    protoColumns = {'Baulänge':str,\n",
    "                    'Bauhöhe':str,\n",
    "                    'Bautiefe':str,\n",
    "                    'ZählernummerAlt':str,\n",
    "                    'ZählerStandAlt':str,\n",
    "                    'ZählernummerNeu':str}\n",
    "    protokolle = glob.glob(pathPattern)\n",
    "    #ToDo: Fehlerbehandlung wenn keine Dateien gefunden werden.\n",
    "    protoDF = pd.DataFrame(columns=protoColumns.keys())\n",
    "    for protokol in protokolle:\n",
    "        protoWB = load_workbook(protokol)\n",
    "        #Es wird vorrausgesetzt, dass das Worksheet \"Dokumentation\" heißt.\n",
    "        try:\n",
    "            protoWS = protoWB['Dokumentation']\n",
    "        except:\n",
    "            print(\"In der Datei \"+protokol+\" wurde kein Worksheet 'Dokumentation' gefunden!\")\n",
    "            break\n",
    "        df = pd.read_excel(protokol, \n",
    "                           sheetname=0, \n",
    "                           names=protoColumns.keys(), \n",
    "                           dtype=protoColumns,  \n",
    "                           parse_cols=\"E:G,L,R,V\")\n",
    "        df2appendHeizung = protoCleanupHeizung(df)\n",
    "        pd.concat([protoDF, df2appendHeizung])\n",
    "        set_trace()\n",
    "    #Hier werden die Heizkostenverteilerdaten eingelesen\n",
    "    protoColumns = {'ZählernummerAlt':str,\n",
    "                    'ZählerStandAlt':str,\n",
    "                    'ZählernummerNeu':str,\n",
    "                    'ZählerStandNeu':str,}\n",
    "    protokolle = glob.glob(pathPattern)\n",
    "    #ToDo: Fehlerbehandlung wenn keine Dateien gefunden werden.\n",
    "    protoDF = pd.DataFrame(columns=protoColumns.keys())\n",
    "    for protokol in protokolle:\n",
    "        protoWB = load_workbook(protokol)\n",
    "        #Es wird vorrausgesetzt, dass das Worksheet \"Dokumentation\" heißt.\n",
    "        try:\n",
    "            protoWS = protoWB['Dokumentation']\n",
    "        except:\n",
    "            print(\"In der Datei \"+protokol+\" wurde kein Worksheet 'Dokumentation' gefunden!\")\n",
    "            break\n",
    "        df = pd.read_excel(protokol, \n",
    "                           sheetname=0, \n",
    "                           names=protoColumns.keys(), \n",
    "                           dtype=protoColumns,  \n",
    "                           parse_cols=\"F,K,L,W\")\n",
    "        df2appendWasser = protoCleanupWasser(df)\n",
    "        pd.concat([protoDF, df2appendWasser])\n",
    "        set_trace()\n",
    "    protoDF.reset_index(drop=True, inplace=True)\n",
    "    return protoDF"
   ]
  },
  {
   "cell_type": "code",
   "execution_count": null,
   "metadata": {},
   "outputs": [],
   "source": [
    "#Nimmt an, dass das Excel-sheet IMMER 'Zählerliste' heißt. Tippfehler gehen schief!!!\n",
    "df = pd.read_excel(Auftrag, sheetname='Zählerliste', header=9)\n",
    "protoDF = collectProtocols()\n",
    "#Es wird vorrausgesetzt, das die Zaehlernummern immer in der 5.(E) Spalte stehen.\n",
    "for Zählernummer in df['alte\\nZähler-Nr']:\n",
    "    #Fehlerbehandlung, wenn Feldinhalt keine Zählernummer\n",
    "    try:\n",
    "        proto = findZählernummer(Zählernummer, protoDF)\n",
    "        if (len(proto['ZählernummerNeu'].values) > 0):\n",
    "            #print('Zählernummer '+str(Zählernummer)+' gefunden')\n",
    "            df.loc[(df['alte\\nZähler-Nr'] == Zählernummer),'neue\\nZähler-Nr'] = proto['ZählernummerNeu'].values[0]\n",
    "            #ToDo: Fehlerbehandlung wenn ein gültiger Zählerstand vorhanden.\n",
    "            df.loc[(df['alte\\nZähler-Nr'] == Zählernummer),'Stand\\nAusbau'] = proto['ZählerStandAlt'].values[0]\n",
    "        else:\n",
    "            print('Zählernummer '+str(Zählernummer)+' nicht gefunden')\n",
    "    except:\n",
    "        print('Bei der Bearbeitung von Zählernummer '+str(Zählernummer)+' ist ein Fehler aufgetreten')"
   ]
  },
  {
   "cell_type": "code",
   "execution_count": null,
   "metadata": {},
   "outputs": [],
   "source": [
    "protoDF"
   ]
  }
 ],
 "metadata": {
  "kernelspec": {
   "display_name": "Python 3",
   "language": "python",
   "name": "python3"
  },
  "language_info": {
   "codemirror_mode": {
    "name": "ipython",
    "version": 3
   },
   "file_extension": ".py",
   "mimetype": "text/x-python",
   "name": "python",
   "nbconvert_exporter": "python",
   "pygments_lexer": "ipython3",
   "version": "3.6.2"
  }
 },
 "nbformat": 4,
 "nbformat_minor": 2
}
