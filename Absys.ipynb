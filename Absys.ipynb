{
 "cells": [
  {
   "cell_type": "code",
   "execution_count": null,
   "metadata": {
    "collapsed": true
   },
   "outputs": [],
   "source": [
    "import numpy as np\n",
    "import pandas as pd\n",
    "import itertools\n",
    "import glob\n",
    "from openpyxl import load_workbook\n",
    "Auftrag = './absys_files/A-2017-0059_919A.XLSX'"
   ]
  },
  {
   "cell_type": "code",
   "execution_count": null,
   "metadata": {},
   "outputs": [],
   "source": [
    "def processZaehlernummer(Zaehlernummer):\n",
    "    if isinstance(int(Zaehlernummer), int):\n",
    "        assert len(str(Zaehlernummer)) == 8\n",
    "        print(Zaehlernummer)"
   ]
  },
  {
   "cell_type": "code",
   "execution_count": null,
   "metadata": {
    "collapsed": true
   },
   "outputs": [],
   "source": [
    "def protoCleanup():\n",
    "    df2append = df.dropna()\n",
    "    df2append = df2append[(df2append['Baulänge'] != 'Baulänge') &\n",
    "                          (df2append['Bauhöhe'] != 'Bauhöhe')&\n",
    "                          (df2append['Bautiefe'] != 'Bautiefe') &\n",
    "                          (df2append['ZählernummerAlt'] != 'Altgerät') &\n",
    "                          (df2append['ZählernummerNeu'] != 'Neugerät')]\n",
    "    df2append = df2append[(df2append['Baulänge'] != 'D') &\n",
    "                          (df2append['Bauhöhe'] != 'E') &\n",
    "                          (df2append['Bautiefe'] != 'F') &\n",
    "                          (df2append['ZählernummerAlt'] != 'Nr.') &\n",
    "                          (df2append['ZählernummerNeu'] != 'Nr.')]"
   ]
  },
  {
   "cell_type": "code",
   "execution_count": null,
   "metadata": {},
   "outputs": [],
   "source": [
    "def collectProtocols(pathPattern='./absys_files/SenftenbergerRing*'):\n",
    "    protoColumns = {'Baulänge':str,\n",
    "                    'Bauhöhe':str,\n",
    "                    'Bautiefe':str,\n",
    "                    'ZählernummerAlt':str,\n",
    "                    'ZählernummerNeu':str}\n",
    "    protokolle = glob.glob(pathPattern)\n",
    "    #ToDo: Fehlerbehandlung wenn keine Dateien gefunden werden.\n",
    "    protoDF = pd.DataFrame(columns=protoColumns.keys())\n",
    "    for protokol in protokolle:\n",
    "        protoWB = load_workbook(protokol)\n",
    "        #Es wird vorrausgesetzt, dass das Worksheet \"Dokumentation\" heißt.\n",
    "        try:\n",
    "            protoWS = protoWB['Dokumentation']\n",
    "        except:\n",
    "            print(\"In der Datei \"+protokol+\" wurde kein Worksheet 'Dokumentation' gefunden!\")\n",
    "            break\n",
    "        df = pd.read_excel(protokol, \n",
    "                           sheetname=0, \n",
    "                           names=protoColumns.keys(), \n",
    "                           dtype=protoColumns,  \n",
    "                           parse_cols=\"E:G,L,V\")\n",
    "        df2append = protoCleanup(df)\n",
    "        protoDF = protoDF.append(df2append)\n",
    "    return protoDF"
   ]
  },
  {
   "cell_type": "code",
   "execution_count": null,
   "metadata": {},
   "outputs": [],
   "source": [
    "#Nimmt an, dass das Excel-sheet IMMER 'Zählerliste' heißt. Tippfehler gehen schief!!!\n",
    "df = pd.read_excel(Auftrag, sheetname='Zählerliste', header=9)\n",
    "protoDF = collectProtocols()\n",
    "#Es wird vorrausgesetzt, das die Zaehlernummern immer in der 5.(E) Spalte stehen.\n",
    "for Zaehlernummer in df['alte\\nZähler-Nr']:\n",
    "    #Fehlerbehandlung, wenn Feldinhalt keine Zählernummer\n",
    "    try:\n",
    "        processZaehlernummer(Zaehlernummer)\n",
    "    except:\n",
    "        print('Bei der Bearbeitung von Zaehlernummer '+Zaehlernummer+' ist ein Fehler aufgetreten')\n",
    "df"
   ]
  }
 ],
 "metadata": {
  "kernelspec": {
   "display_name": "Python 3",
   "language": "python",
   "name": "python3"
  },
  "language_info": {
   "codemirror_mode": {
    "name": "ipython",
    "version": 3
   },
   "file_extension": ".py",
   "mimetype": "text/x-python",
   "name": "python",
   "nbconvert_exporter": "python",
   "pygments_lexer": "ipython3",
   "version": "3.6.2"
  }
 },
 "nbformat": 4,
 "nbformat_minor": 2
}
